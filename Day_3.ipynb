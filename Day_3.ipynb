{
  "nbformat": 4,
  "nbformat_minor": 0,
  "metadata": {
    "colab": {
      "name": "Day 3.ipynb",
      "provenance": [],
      "collapsed_sections": []
    },
    "kernelspec": {
      "name": "python3",
      "display_name": "Python 3"
    },
    "language_info": {
      "name": "python"
    }
  },
  "cells": [
    {
      "cell_type": "code",
      "execution_count": 1,
      "metadata": {
        "colab": {
          "base_uri": "https://localhost:8080/"
        },
        "id": "RNrCpIjfQNjA",
        "outputId": "c07f654b-3926-4dff-fce6-7e997b68a7a5"
      },
      "outputs": [
        {
          "output_type": "stream",
          "name": "stdout",
          "text": [
            "Looking in indexes: https://pypi.org/simple, https://us-python.pkg.dev/colab-wheels/public/simple/\n",
            "Requirement already satisfied: networkx in /usr/local/lib/python3.7/dist-packages (2.6.3)\n"
          ]
        }
      ],
      "source": [
        "pip install networkx\n"
      ]
    },
    {
      "cell_type": "code",
      "source": [
        "import networkx as nx\n",
        "import matplotlib.pyplot as plt\n"
      ],
      "metadata": {
        "id": "Wu50ATtzFfgg"
      },
      "execution_count": 2,
      "outputs": []
    },
    {
      "cell_type": "markdown",
      "source": [
        "# UnDirected Graph"
      ],
      "metadata": {
        "id": "v1s-P16yGs-s"
      }
    },
    {
      "cell_type": "code",
      "source": [
        "G = nx.Graph()\n",
        "\n",
        "G.add_node(1)\n",
        "G.add_node(2)\n",
        "G.add_node(3)\n",
        "G.add_node(4)\n",
        "\n",
        "G.add_edge(1, 2)\n",
        "G.add_edge(2, 3)\n",
        "G.add_edge(2, 4)\n",
        "nx.draw(G, pos=nx.kamada_kawai_layout(G), with_labels = True, font_color = 'white', node_shape='s')\n"
      ],
      "metadata": {
        "id": "xXLIvJC_GukU",
        "colab": {
          "base_uri": "https://localhost:8080/",
          "height": 319
        },
        "outputId": "c709cd78-de60-4a8a-cf37-fc53bb99ada2"
      },
      "execution_count": 7,
      "outputs": [
        {
          "output_type": "display_data",
          "data": {
            "text/plain": [
              "<Figure size 432x288 with 1 Axes>"
            ],
            "image/png": "[encoded data removed]"
          },
          "metadata": {}
        }
      ]
    },
    {
      "cell_type": "markdown",
      "source": [
        "Weighted Graph"
      ],
      "metadata": {
        "id": "NapLEFlTFO6e"
      }
    },
    {
      "cell_type": "code",
      "source": [
        "def show_wgraph():\n",
        "    plt.figure()    \n",
        "    pos = nx.spring_layout(G)\n",
        "    weight_labels = nx.get_edge_attributes(G,'weight')\n",
        "    nx.draw(G,pos,font_color = 'white', node_shape = 's', with_labels = True,)\n",
        "    output = nx.draw_networkx_edge_labels(G,pos,edge_labels=weight_labels)"
      ],
      "metadata": {
        "id": "ef36-5ZWFTeF"
      },
      "execution_count": 4,
      "outputs": []
    },
    {
      "cell_type": "markdown",
      "source": [
        "#Directed Graph"
      ],
      "metadata": {
        "id": "v5ooBwbZrYKj"
      }
    },
    {
      "cell_type": "code",
      "source": [
        "# DiGraph is for directed graph\n",
        "G = nx.DiGraph()\n",
        "\n",
        "G.add_node('A')\n",
        "G.add_node('B')\n",
        "G.add_node('C')\n",
        "G.add_node('D')\n",
        "G.add_node('E')\n",
        "G.add_node('F')\n",
        "\n",
        "G.add_edge('A', 'B', weight=3)\n",
        "G.add_edge('A', 'C', weight=2)\n",
        "G.add_edge('B', 'C', weight=1)\n",
        "G.add_edge('B', 'E', weight=3)\n",
        "G.add_edge('C', 'D', weight=8)\n",
        "G.add_edge('E', 'F', weight=4)\n",
        "G.add_edge('D', 'F', weight=2)\n",
        "G.add_edge('B', 'D', weight=4)\n",
        "G.add_edge('E', 'D', weight=4)\n",
        "\n",
        "#show_wgraph()\n",
        "\n",
        "nx.draw(G,pos=nx.spring_layout(G),font_color = 'white', node_shape = 's', with_labels = True,)\n",
        "nx.draw_networkx_edge_labels(G,pos=nx.spring_layout(G),edge_labels=nx.get_edge_attributes(G,'weight'))"
      ],
      "metadata": {
        "colab": {
          "base_uri": "https://localhost:8080/",
          "height": 480
        },
        "id": "DkbdEgjVFQcR",
        "outputId": "ea214562-15c9-4d1a-9e2c-d9cc5fe45fe0"
      },
      "execution_count": 26,
      "outputs": [
        {
          "output_type": "execute_result",
          "data": {
            "text/plain": [
              "{('A', 'B'): Text(-0.06749314041800208, 0.3738499299370476, '3'),\n",
              " ('A', 'C'): Text(0.20353898855370506, 0.5909787357336256, '2'),\n",
              " ('B', 'C'): Text(0.17158823764952405, 0.3172256919751754, '1'),\n",
              " ('B', 'D'): Text(0.04932257171879879, 0.06486593154000898, '4'),\n",
              " ('B', 'E'): Text(-0.09052445687795546, -0.10579622418433643, '3'),\n",
              " ('C', 'D'): Text(0.320354700690506, 0.28199473733658703, '8'),\n",
              " ('D', 'F'): Text(-0.11301453167574968, -0.4851825115492897, '2'),\n",
              " ('E', 'D'): Text(0.05824200616302644, -0.14102717882292481, '4'),\n",
              " ('E', 'F'): Text(-0.25286156027250395, -0.6558446672736351, '4')}"
            ]
          },
          "metadata": {},
          "execution_count": 26
        },
        {
          "output_type": "display_data",
          "data": {
            "text/plain": [
              "<Figure size 432x288 with 1 Axes>"
            ],
            "image/png": "[encoded data removed]"
          },
          "metadata": {}
        }
      ]
    },
    {
      "cell_type": "code",
      "source": [
        "import networkx as nx\n",
        "G = nx.Graph() \n",
        "G.add_node('A') \n",
        "G.add_node('B')\n",
        "G.add_node('C')\n",
        "G.add_node('D')\n",
        "G.add_edge('A','B',relation='friend') \n",
        "G.add_edge('B','C',relation='neighbor') \n",
        "G.add_edge('B','D',relation='friend')\n",
        "G.add_edge('A','D',relation='friend')  \n",
        "G.add_node('A',role=\"Trader\")\n",
        "G.add_node('B',role=\"Trader\")\n",
        "G.add_node('C',role=\"Manager\")\n",
        "G.add_node('D',role=\"Manager\")"
      ],
      "metadata": {
        "id": "qIADwkrWRn-c"
      },
      "execution_count": 34,
      "outputs": []
    },
    {
      "cell_type": "code",
      "source": [
        "nx.draw_networkx(G, pos=nx.spring_layout(G),with_labels=True)"
      ],
      "metadata": {
        "colab": {
          "base_uri": "https://localhost:8080/",
          "height": 248
        },
        "id": "iDDqx0kVNUhX",
        "outputId": "8cb226dc-7fa7-41ab-92cd-2a3dfe6251f9"
      },
      "execution_count": 28,
      "outputs": [
        {
          "output_type": "display_data",
          "data": {
            "text/plain": [
              "<Figure size 432x288 with 1 Axes>"
            ],
            "image/png": "[encoded data removed]"
          },
          "metadata": {}
        }
      ]
    },
    {
      "cell_type": "code",
      "source": [
        "nx.draw_networkx(G, pos=nx.spring_layout(G),node_color=[\"#A0CBE2\", \"#D0AAE3\", \"#FF0000\", \"#FFFF00\"])"
      ],
      "metadata": {
        "colab": {
          "base_uri": "https://localhost:8080/",
          "height": 248
        },
        "id": "wOZLQ6dUJIYB",
        "outputId": "feb93110-f9bc-459e-bcbe-a81a63e53509"
      },
      "execution_count": 29,
      "outputs": [
        {
          "output_type": "display_data",
          "data": {
            "text/plain": [
              "<Figure size 432x288 with 1 Axes>"
            ],
            "image/png": "[encoded data removed]"
          },
          "metadata": {}
        }
      ]
    },
    {
      "cell_type": "code",
      "source": [
        "#DRAW WEIGHTED GRAPH                                     \n",
        "import networkx as nx\n",
        "import matplotlib.pyplot as plt\n",
        "G=nx.Graph()\n",
        "G.add_node(1,pos=(1,1))\n",
        "G.add_node(2,pos=(2,2))\n",
        "G.add_node(3,pos=(1,0))\n",
        "G.add_edge(1,2,weight=0.5) \n",
        "G.add_edge(1,3,weight=9.8)\n",
        "pos=nx.get_node_attributes(G,'pos')\n",
        "labels = nx.get_edge_attributes(G,'weight')\n",
        "nx.draw_networkx(G,pos)\n",
        "nx.draw_networkx_edge_labels(G,pos,edge_labels=labels)\n",
        "limits=plt.axis('on')\n",
        "plt.show()                                                 \n",
        "  "
      ],
      "metadata": {
        "colab": {
          "base_uri": "https://localhost:8080/",
          "height": 248
        },
        "id": "1rgR3KUdcfY3",
        "outputId": "a6e1d41c-e3fe-49fe-f879-ce736dbc6406"
      },
      "execution_count": 30,
      "outputs": [
        {
          "output_type": "display_data",
          "data": {
            "text/plain": [
              "<Figure size 432x288 with 1 Axes>"
            ],
            "image/png": "[encoded data removed]"
          },
          "metadata": {}
        }
      ]
    },
    {
      "cell_type": "code",
      "source": [
        "#MULTIGRAPH\n",
        "G = nx.MultiGraph()\n",
        "G.add_edge('A','B',relation='friend')\n",
        "G.add_edge('A','B',relation='neighbor')\n",
        "G.add_edge('B','C',relation='coworker')\n",
        "G.add_edge('C','F',relation='coworker')\n",
        "G.add_edge('C','F',relation='friend')\n",
        "#color_code = {'friend'='red'}\n",
        "nx.draw_networkx(G)\n",
        "# getting various graph properties\n",
        "print(\"Total number of nodes: \", int(G.number_of_nodes()))\n",
        "print(\"Total number of edges: \", int(G.number_of_edges()))\n",
        "print(\"List of all nodes: \", list(G.nodes()))\n",
        "print(\"List of all edges: \", list(G.edges(data = True)))\n",
        "print(\"Degree for all nodes: \", dict(G.degree()))\n",
        "\n"
      ],
      "metadata": {
        "colab": {
          "base_uri": "https://localhost:8080/",
          "height": 357
        },
        "id": "h6d71ReENA2Z",
        "outputId": "c4d78a46-2570-49c7-9cf0-3047b6b8ab7e"
      },
      "execution_count": 50,
      "outputs": [
        {
          "output_type": "stream",
          "name": "stdout",
          "text": [
            "Total number of nodes:  4\n",
            "Total number of edges:  5\n",
            "List of all nodes:  ['A', 'B', 'C', 'F']\n",
            "List of all edges:  [('A', 'B', {'relation': 'friend'}), ('A', 'B', {'relation': 'neighbor'}), ('B', 'C', {'relation': 'coworker'}), ('C', 'F', {'relation': 'coworker'}), ('C', 'F', {'relation': 'friend'})]\n",
            "Degree for all nodes:  {'A': 2, 'B': 3, 'C': 3, 'F': 2}\n"
          ]
        },
        {
          "output_type": "display_data",
          "data": {
            "text/plain": [
              "<Figure size 432x288 with 1 Axes>"
            ],
            "image/png": "[encoded data removed]"
          },
          "metadata": {}
        }
      ]
    },
    {
      "cell_type": "markdown",
      "source": [
        "# Instructor new code"
      ],
      "metadata": {
        "id": "idFL99dXLb6_"
      }
    },
    {
      "cell_type": "code",
      "source": [
        "#MULTIGRAPH\n",
        "G = nx.MultiGraph()\n",
        "G.add_edge('A','B',relation='friend')\n",
        "G.add_edge('A','B',relation='neighbor')\n",
        "G.add_edge('B','C',relation='coworker')\n",
        "G.add_edge('C','F',relation='coworker')\n",
        "G.add_edge('C','F',relation='friend')\n",
        "\n",
        "#color-code the edges\n",
        "color_code = {'friend':'blue','neighbor':'yellow','coworker':'lime'}\n",
        "\n",
        "x=list(G.edges(data = True))\n",
        "x1=[]\n",
        "for i in x:\n",
        "  x1.append(i[2]['relation'])\n",
        "x1\n",
        "\n",
        "\n",
        "edge_color_list = [color_code[rel] for rel in x1]\n",
        "\n",
        "nx.draw(G, with_labels= True, edge_color= edge_color_list)"
      ],
      "metadata": {
        "colab": {
          "base_uri": "https://localhost:8080/",
          "height": 319
        },
        "id": "Dvj6DyfGLY-J",
        "outputId": "67acb6e0-c131-48ae-f902-1840f40700e2"
      },
      "execution_count": 53,
      "outputs": [
        {
          "output_type": "display_data",
          "data": {
            "text/plain": [
              "<Figure size 432x288 with 1 Axes>"
            ],
            "image/png": "[encoded data removed]"
          },
          "metadata": {}
        }
      ]
    },
    {
      "cell_type": "code",
      "source": [
        "nx.draw(G,pos=nx.spring_layout(G),font_color='white',node_shape='s',with_labels=True)\n",
        "nx.draw_networkx_edge_labels(G,pos=nx.spring_layout(G),edge_labels=nx.get_edge_attributes(G,'relation'))\n",
        "nx.draw_networkx_nodes(G,pos=nx.spring_layout(G),nodelist=nx.get_node_attributes(G,'role'),node_color=\"red\")\n"
      ],
      "metadata": {
        "colab": {
          "base_uri": "https://localhost:8080/",
          "height": 337
        },
        "id": "yO7P9ZxYvrkx",
        "outputId": "b65a05b4-e5fa-4f9e-ea2f-04be2cacfe88"
      },
      "execution_count": 49,
      "outputs": [
        {
          "output_type": "execute_result",
          "data": {
            "text/plain": [
              "<matplotlib.collections.PathCollection at 0x7f53adb84290>"
            ]
          },
          "metadata": {},
          "execution_count": 49
        },
        {
          "output_type": "display_data",
          "data": {
            "text/plain": [
              "<Figure size 432x288 with 1 Axes>"
            ],
            "image/png": "[encoded data removed]"
          },
          "metadata": {}
        }
      ]
    },
    {
      "cell_type": "code",
      "source": [
        "#SIGNED GRAPH\n",
        "G = nx.MultiGraph()\n",
        "G.add_edge('A','B',sign='+')\n",
        "G.add_edge('B','C',sign='-')\n",
        "G.add_edge('C','F',sign='-')\n",
        "nx.draw_networkx(G)\n",
        "# getting various graph properties\n",
        "print(\"Total number of nodes: \", int(G.number_of_nodes()))\n",
        "print(\"Total number of edges: \", int(G.number_of_edges()))\n",
        "print(\"List of all nodes: \", list(G.nodes()))\n",
        "print(\"List of all edges: \", list(G.edges(data = True)))\n",
        "print(\"Degree for all nodes: \", dict(G.degree()))"
      ],
      "metadata": {
        "colab": {
          "base_uri": "https://localhost:8080/",
          "height": 337
        },
        "id": "_3XYHXhHNDKs",
        "outputId": "5c5d55eb-5616-412b-9c85-298c86b0e1d4"
      },
      "execution_count": 54,
      "outputs": [
        {
          "output_type": "stream",
          "name": "stdout",
          "text": [
            "Total number of nodes:  4\n",
            "Total number of edges:  3\n",
            "List of all nodes:  ['A', 'B', 'C', 'F']\n",
            "List of all edges:  [('A', 'B', {'sign': '+'}), ('B', 'C', {'sign': '-'}), ('C', 'F', {'sign': '-'})]\n",
            "Degree for all nodes:  {'A': 1, 'B': 2, 'C': 2, 'F': 1}\n"
          ]
        },
        {
          "output_type": "display_data",
          "data": {
            "text/plain": [
              "<Figure size 432x288 with 1 Axes>"
            ],
            "image/png": "[encoded data removed]"
          },
          "metadata": {}
        }
      ]
    },
    {
      "cell_type": "code",
      "source": [
        "import pandas as pd\n",
        "import networkx as nx\n",
        "from matplotlib import pyplot as plt\n",
        "\n",
        "minidf = pd.DataFrame(data = {'relation': ['friend', 'neigbor', 'coworker','coworker','friend'],\n",
        "                       'source': ['A', 'A', 'B','C','C'],\n",
        "                       'target': ['B', 'B', 'C','F','F']})\n",
        "\n",
        "miniG = nx.from_pandas_edgelist(minidf,'source', 'target', create_using=nx.MultiDiGraph())\n",
        "\n",
        "#color-code the edges\n",
        "color_code = {'friend':'red','neigbor':'green','coworker':'lime'}\n",
        "edge_color_list = [color_code[rel] for rel in minidf.relation]\n",
        "nx.draw(miniG, with_labels= True, edge_color= edge_color_list)\n",
        "\n",
        "#create a color-coded legend\n",
        "leg = plt.legend(color_code)\n",
        "for i, item in enumerate(leg.legendHandles):\n",
        "    item.set_color(list(color_code.values())[i])\n",
        "\n",
        "plt.show()"
      ],
      "metadata": {
        "colab": {
          "base_uri": "https://localhost:8080/",
          "height": 319
        },
        "id": "l4JR8ja_LN9v",
        "outputId": "5c18d262-2ef2-4fe5-bcdc-e638d2f0c747"
      },
      "execution_count": 52,
      "outputs": [
        {
          "output_type": "display_data",
          "data": {
            "text/plain": [
              "<Figure size 432x288 with 1 Axes>"
            ],
            "image/png": "[encoded data removed]"
          },
          "metadata": {}
        }
      ]
    },
    {
      "cell_type": "code",
      "source": [
        "#USING panda and matplotlib\n",
        "\n",
        "import pandas as pd\n",
        "import networkx as nx\n",
        "import matplotlib.pyplot as plt\n",
        " \n",
        "# Build a dataframe with your connections\n",
        "df = pd.DataFrame({ 'from':['A', 'B', 'C','A'], 'to':['D', 'A', 'E','C']})\n",
        " \n",
        "# And a data frame with characteristics for your nodes\n",
        "carac = pd.DataFrame({ 'ID':['A', 'B', 'C','D','E'], 'myvalue':['group1','group1','group2','group3','group3'] })\n",
        " \n",
        "# Build your graph\n",
        "G=nx.from_pandas_edgelist(df, 'from', 'to', create_using=nx.Graph() )\n",
        " \n",
        "# The order of the node for networkX is the following order:\n",
        "G.nodes()\n",
        "# Thus, we cannot give directly the 'myvalue' column to netowrkX, we need to arrange the order!\n",
        " "
      ],
      "metadata": {
        "colab": {
          "base_uri": "https://localhost:8080/"
        },
        "id": "L6f5o2T4QmuG",
        "outputId": "f2e2a672-2ca4-4f0f-d7c2-27415ac051b2"
      },
      "execution_count": 61,
      "outputs": [
        {
          "output_type": "execute_result",
          "data": {
            "text/plain": [
              "NodeView(('A', 'D', 'B', 'C', 'E'))"
            ]
          },
          "metadata": {},
          "execution_count": 61
        }
      ]
    },
    {
      "cell_type": "code",
      "source": [
        "\n",
        "# Here is the tricky part: I need to reorder carac to assign the good color to each node\n",
        "carac= carac.set_index('ID') # taking as key value\n",
        "carac=carac.reindex(G.nodes())\n",
        "carac"
      ],
      "metadata": {
        "id": "Rc2kCG9PMU_P",
        "outputId": "56ca866e-59aa-4538-a8bc-591bf3064eb3",
        "colab": {
          "base_uri": "https://localhost:8080/",
          "height": 238
        }
      },
      "execution_count": 62,
      "outputs": [
        {
          "output_type": "execute_result",
          "data": {
            "text/plain": [
              "   myvalue\n",
              "ID        \n",
              "A   group1\n",
              "D   group3\n",
              "B   group1\n",
              "C   group2\n",
              "E   group3"
            ],
            "text/html": [
              "\n",
              "  <div id=\"df-7e8e7eb5-d02d-4a6e-b399-6d4be3152bd7\">\n",
              "    <div class=\"colab-df-container\">\n",
              "      <div>\n",
              "<style scoped>\n",
              "    .dataframe tbody tr th:only-of-type {\n",
              "        vertical-align: middle;\n",
              "    }\n",
              "\n",
              "    .dataframe tbody tr th {\n",
              "        vertical-align: top;\n",
              "    }\n",
              "\n",
              "    .dataframe thead th {\n",
              "        text-align: right;\n",
              "    }\n",
              "</style>\n",
              "<table border=\"1\" class=\"dataframe\">\n",
              "  <thead>\n",
              "    <tr style=\"text-align: right;\">\n",
              "      <th></th>\n",
              "      <th>myvalue</th>\n",
              "    </tr>\n",
              "    <tr>\n",
              "      <th>ID</th>\n",
              "      <th></th>\n",
              "    </tr>\n",
              "  </thead>\n",
              "  <tbody>\n",
              "    <tr>\n",
              "      <th>A</th>\n",
              "      <td>group1</td>\n",
              "    </tr>\n",
              "    <tr>\n",
              "      <th>D</th>\n",
              "      <td>group3</td>\n",
              "    </tr>\n",
              "    <tr>\n",
              "      <th>B</th>\n",
              "      <td>group1</td>\n",
              "    </tr>\n",
              "    <tr>\n",
              "      <th>C</th>\n",
              "      <td>group2</td>\n",
              "    </tr>\n",
              "    <tr>\n",
              "      <th>E</th>\n",
              "      <td>group3</td>\n",
              "    </tr>\n",
              "  </tbody>\n",
              "</table>\n",
              "</div>\n",
              "      <button class=\"colab-df-convert\" onclick=\"convertToInteractive('df-7e8e7eb5-d02d-4a6e-b399-6d4be3152bd7')\"\n",
              "              title=\"Convert this dataframe to an interactive table.\"\n",
              "              style=\"display:none;\">\n",
              "        \n",
              "  <svg xmlns=\"http://www.w3.org/2000/svg\" height=\"24px\"viewBox=\"0 0 24 24\"\n",
              "       width=\"24px\">\n",
              "    <path d=\"M0 0h24v24H0V0z\" fill=\"none\"/>\n",
              "    <path d=\"M18.56 5.44l.94 2.06.94-2.06 2.06-.94-2.06-.94-.94-2.06-.94 2.06-2.06.94zm-11 1L8.5 8.5l.94-2.06 2.06-.94-2.06-.94L8.5 2.5l-.94 2.06-2.06.94zm10 10l.94 2.06.94-2.06 2.06-.94-2.06-.94-.94-2.06-.94 2.06-2.06.94z\"/><path d=\"M17.41 7.96l-1.37-1.37c-.4-.4-.92-.59-1.43-.59-.52 0-1.04.2-1.43.59L10.3 9.45l-7.72 7.72c-.78.78-.78 2.05 0 2.83L4 21.41c.39.39.9.59 1.41.59.51 0 1.02-.2 1.41-.59l7.78-7.78 2.81-2.81c.8-.78.8-2.07 0-2.86zM5.41 20L4 18.59l7.72-7.72 1.47 1.35L5.41 20z\"/>\n",
              "  </svg>\n",
              "      </button>\n",
              "      \n",
              "  <style>\n",
              "    .colab-df-container {\n",
              "      display:flex;\n",
              "      flex-wrap:wrap;\n",
              "      gap: 12px;\n",
              "    }\n",
              "\n",
              "    .colab-df-convert {\n",
              "      background-color: #E8F0FE;\n",
              "      border: none;\n",
              "      border-radius: 50%;\n",
              "      cursor: pointer;\n",
              "      display: none;\n",
              "      fill: #1967D2;\n",
              "      height: 32px;\n",
              "      padding: 0 0 0 0;\n",
              "      width: 32px;\n",
              "    }\n",
              "\n",
              "    .colab-df-convert:hover {\n",
              "      background-color: #E2EBFA;\n",
              "      box-shadow: 0px 1px 2px rgba(60, 64, 67, 0.3), 0px 1px 3px 1px rgba(60, 64, 67, 0.15);\n",
              "      fill: #174EA6;\n",
              "    }\n",
              "\n",
              "    [theme=dark] .colab-df-convert {\n",
              "      background-color: #3B4455;\n",
              "      fill: #D2E3FC;\n",
              "    }\n",
              "\n",
              "    [theme=dark] .colab-df-convert:hover {\n",
              "      background-color: #434B5C;\n",
              "      box-shadow: 0px 1px 3px 1px rgba(0, 0, 0, 0.15);\n",
              "      filter: drop-shadow(0px 1px 2px rgba(0, 0, 0, 0.3));\n",
              "      fill: #FFFFFF;\n",
              "    }\n",
              "  </style>\n",
              "\n",
              "      <script>\n",
              "        const buttonEl =\n",
              "          document.querySelector('#df-7e8e7eb5-d02d-4a6e-b399-6d4be3152bd7 button.colab-df-convert');\n",
              "        buttonEl.style.display =\n",
              "          google.colab.kernel.accessAllowed ? 'block' : 'none';\n",
              "\n",
              "        async function convertToInteractive(key) {\n",
              "          const element = document.querySelector('#df-7e8e7eb5-d02d-4a6e-b399-6d4be3152bd7');\n",
              "          const dataTable =\n",
              "            await google.colab.kernel.invokeFunction('convertToInteractive',\n",
              "                                                     [key], {});\n",
              "          if (!dataTable) return;\n",
              "\n",
              "          const docLinkHtml = 'Like what you see? Visit the ' +\n",
              "            '<a target=\"_blank\" href=https://colab.research.google.com/notebooks/data_table.ipynb>data table notebook</a>'\n",
              "            + ' to learn more about interactive tables.';\n",
              "          element.innerHTML = '';\n",
              "          dataTable['output_type'] = 'display_data';\n",
              "          await google.colab.output.renderOutput(dataTable, element);\n",
              "          const docLink = document.createElement('div');\n",
              "          docLink.innerHTML = docLinkHtml;\n",
              "          element.appendChild(docLink);\n",
              "        }\n",
              "      </script>\n",
              "    </div>\n",
              "  </div>\n",
              "  "
            ]
          },
          "metadata": {},
          "execution_count": 62
        }
      ]
    },
    {
      "cell_type": "code",
      "source": [
        "\n",
        "# And I need to transform my categorical column in a numerical value: group1->1, group2->2...\n",
        "carac['myvalue']=pd.Categorical(carac['myvalue'])\n",
        "carac['myvalue'].cat.codes\n",
        " \n",
        "# Custom the nodes:\n",
        "nx.draw(G, with_labels=True, node_color=carac['myvalue'].cat.codes, cmap=plt.cm.Set1, node_size=1500)"
      ],
      "metadata": {
        "id": "O63WMhk0MqBv",
        "outputId": "a8869b82-fb3c-493a-898c-10d961d3904e",
        "colab": {
          "base_uri": "https://localhost:8080/",
          "height": 319
        }
      },
      "execution_count": 63,
      "outputs": [
        {
          "output_type": "display_data",
          "data": {
            "text/plain": [
              "<Figure size 432x288 with 1 Axes>"
            ],
            "image/png": "[encoded data removed]"
          },
          "metadata": {}
        }
      ]
    },
    {
      "cell_type": "markdown",
      "source": [
        "Bipartite graph\n"
      ],
      "metadata": {
        "id": "AFFqpSFMUvGO"
      }
    },
    {
      "cell_type": "code",
      "source": [
        "B=nx.Graph() \n",
        "B.add_nodes_from(['A','B','C','D','E'],bipartite=0)\n",
        "B.add_nodes_from([1,2,3,4],bipartite=1) \n",
        "B.add_edges_from([('A',1),('B',1),('C',1),('C',3), ('D',2), ('E',3),('E',4)])\n",
        "nx.draw_networkx(B,pos = nx.drawing.layout.bipartite_layout(B, ['A','B','C','D','E']), width = 2)\n",
        "\n"
      ],
      "metadata": {
        "id": "W6n4XN85VMky",
        "colab": {
          "base_uri": "https://localhost:8080/",
          "height": 248
        },
        "outputId": "dfe731d1-1ab0-4dd1-a11b-24afa4c99980"
      },
      "execution_count": 64,
      "outputs": [
        {
          "output_type": "display_data",
          "data": {
            "text/plain": [
              "<Figure size 432x288 with 1 Axes>"
            ],
            "image/png": "[encoded data removed]"
          },
          "metadata": {}
        }
      ]
    },
    {
      "cell_type": "markdown",
      "source": [
        "Projected Graph"
      ],
      "metadata": {
        "id": "20mPrugQWW8K"
      }
    },
    {
      "cell_type": "code",
      "source": [
        "from networkx.algorithms import bipartite\n",
        "B=nx.Graph() \n",
        "B.add_edges_from([('A',1),('B',1), ('C',1),('D',1),\n",
        "                  ('H',1),('B',2),('C',2),('D',2), ('E',2),\n",
        "                  ('G',2),('E',3),('F',3),('H',3),('J',3),('E',4),\n",
        "                  ('I',4),('J',4)])\n",
        "X=set(['A','B','C','D','E','F','G','H','I', 'J'])\n",
        "P=bipartite.projected_graph(B,X)\n",
        "nx.draw_networkx(P,width = 2)\n"
      ],
      "metadata": {
        "colab": {
          "base_uri": "https://localhost:8080/",
          "height": 248
        },
        "id": "IfbsJwHeWYVJ",
        "outputId": "650277fb-62c6-486a-f22f-8844809f74b7"
      },
      "execution_count": 67,
      "outputs": [
        {
          "output_type": "display_data",
          "data": {
            "text/plain": [
              "<Figure size 432x288 with 1 Axes>"
            ],
            "image/png": "[encoded data removed]"
          },
          "metadata": {}
        }
      ]
    },
    {
      "cell_type": "code",
      "source": [
        "import networkx as nx\n",
        "# Undirected Graph\n",
        "G = nx.Graph()\n",
        "G.add_edge('A','B')\n",
        "G.add_edge('B','C')\n",
        "nx.draw_networkx(G)\n",
        "\n",
        "\n",
        "\n",
        "# Directed Graph\n",
        "D = nx.DiGraph()\n",
        "D.add_edge('B','A')\n",
        "D.add_edge('B','C')\n",
        "# Check\n",
        "D.is_directed()\n",
        "# True\n",
        "nx.draw_networkx(D)\n",
        "\n",
        "\n",
        "\n",
        "# Multi-Graph\n",
        "M = nx.MultiGraph()\n",
        "M.add_edge('B','A')\n",
        "M.add_edge('B','C')\n",
        "# Check\n",
        "M.is_multigraph()\n",
        "# True\n",
        "nx.draw_networkx(M)\n",
        "\n",
        "\n",
        "\n",
        "\n",
        "# Directed Multi-Graph\n",
        "DM = nx.MultiDiGraph()\n",
        "DM.add_edge('B','A')\n",
        "DM.add_edge('B','C')\n",
        "# Check\n",
        "DM.is_multigraph()\n",
        "# True\n",
        "nx.draw_networkx(DM)\n",
        "\n",
        "\n",
        "\n",
        "#To create a bipartite graph:\n",
        "from networkx.algorithms import bipartite\n",
        "B = nx.Graph()\n",
        "# Add nodes\n",
        "B.add_nodes_from(['A','B','C','D','E'], bipartite=0)\n",
        "B.add_nodes_from([1,2,3,4], bipartite=1)\n",
        "# Add edges\n",
        "B.add_edges_from([('A',1),('B',1),('C',1),('C',3),('D',2),('E',3),('E',4)])\n",
        "#CHeck\n",
        "bipartite.is_bipartite(B)\n",
        "# True\n",
        "#Projected Bipartite Graph\n",
        "B = nx.Graph()\n",
        "B.add_edges_from([('A',1), ('B',1), ('C',1),('D',1),('H',1), \\\n",
        "                    ('B', 2), ('C', 2), ('D', 2),('E', 2), ('G', 2), ('E', 3), \\\n",
        "                    ('F', 3), ('H', 3), ('J', 3), ('E', 4), ('I', 4), ('J', 4) ])\n",
        "\n",
        "# set of nodes to generate a projected graph from a partition\n",
        "X = set(['A','B','C','D', 'E', 'F','G', 'H', 'I','J'])\n",
        "P = bipartite.projected_graph(B, X)\n",
        "nx.draw_networkx(P)\n",
        "\n",
        "\n",
        "\n",
        "\n",
        "\n",
        "#EDGE TYPES\n",
        "# Weighted Edges\n",
        "W = nx.Graph()\n",
        "W.add_edge('A','B', weight=5)\n",
        "W.add_edge('B','C', weight=6)\n",
        "nx.draw_networkx(W)\n",
        "# Signed Edges\n",
        "S = nx.Graph()\n",
        "S.add_edge('A','B', sign='+')\n",
        "S.add_edge('B','C', sign='-')\n",
        "nx.draw_networkx(S)\n",
        "# Edge Attributes\n",
        "R = nx.Graph()\n",
        "R.add_edge('A','B', relation='friend')\n",
        "R.add_edge('B','C', relation='coworker')\n",
        "R.add_edge('B','D', relation='family')\n",
        "R.add_edge('A','B', relation='friend', weight=5)\n",
        "nx.draw_networkx(R)\n",
        "\n",
        "\n",
        "\n",
        "#Node Atrributes\n",
        "G=nx.MultiGraph()\n",
        "G.add_node('A',role='manager')\n",
        "G.add_node('B',role='employee')\n",
        "G.node['A']['role'] = 'team member'\n",
        "G.node['B']['role'] = 'engineer'\n",
        "nx.draw_networkx(G)\n",
        "\n"
      ],
      "metadata": {
        "id": "2mvL3n0_adJe"
      },
      "execution_count": null,
      "outputs": []
    },
    {
      "cell_type": "code",
      "source": [
        "import networkx as nx\n",
        "G = nx.Graph()\n",
        "G.add_edge('A','K')\n",
        "G.add_edge('A','B')\n",
        "G.add_edge('A','C')\n",
        "G.add_edge('B','K')\n",
        "G.add_edge('B','A')\n",
        "G.add_edge('B','C')\n",
        "G.add_edge('C','A')\n",
        "G.add_edge('C','B')\n",
        "G.add_edge('C','F')\n",
        "G.add_edge('C','E')\n",
        "G.add_edge('D','E')\n",
        "G.add_edge('E','C')\n",
        "G.add_edge('E','F')\n",
        "G.add_edge('E','H')\n",
        "G.add_edge('F','C')\n",
        "G.add_edge('F','G')\n",
        "G.add_edge('I','J')\n",
        "nx.draw_networkx(G)\n",
        "\n",
        "\n",
        "#Clustering Coefficient\n",
        "# G is a graph, A is a node\n",
        "nx.clustering(G, 'B')\n",
        "\n",
        "#Global clustering\n",
        "nx.average_clustering(G)\n",
        "\n",
        "#Transistivity\n",
        "nx.transitivity(G)\n",
        "\n",
        "#SHORTEST PATH\n",
        "nx.shortest_path(G, 'A', 'H')\n",
        "# ['A', 'C', 'E', 'H']\n",
        "\n",
        "nx.shortest_path_length(G, 'A', 'H')\n",
        "# 3\n",
        "\n",
        "#Breadth First Search\n",
        "T = nx.bfs_tree(G, 'A')\n",
        "T.edges()\n",
        "\n",
        "#Shortest path\n",
        "nx.shortest_path_length(G, 'A')\n",
        "\n",
        "\n",
        "\n",
        "degCent = nx.degree_centrality(G)\n",
        "# gives a dictionary. key = node, value = centrality ratio\n",
        "degCent[34]"
      ],
      "metadata": {
        "id": "FavcgPk2ad_4"
      },
      "execution_count": null,
      "outputs": []
    },
    {
      "cell_type": "code",
      "source": [
        ""
      ],
      "metadata": {
        "id": "OwHoV2A0anEa"
      },
      "execution_count": null,
      "outputs": []
    }
  ]
}